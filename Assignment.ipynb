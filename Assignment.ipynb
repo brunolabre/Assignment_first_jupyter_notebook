{
 "cells": [
  {
   "cell_type": "markdown",
   "id": "611ba182-f48a-4243-ad15-47ab25fd6c78",
   "metadata": {},
   "source": [
    "# Data Science Tools and Ecosystem"
   ]
  },
  {
   "cell_type": "markdown",
   "id": "67c52a19-cbe5-4571-ae75-49a921a27d34",
   "metadata": {},
   "source": [
    "Objectives:\n",
    "+ Components of Data Scientists' Toolkits;\n",
    "+ Languages used in Data Science;\n",
    "+ Open-source, Commercial and Cloud-based Tools for Data Scientists;\n",
    "+ Popular libraries in the field;\n",
    "+ Introduction to Jupyter Notebooks."
   ]
  },
  {
   "cell_type": "markdown",
   "id": "f96f855b-2281-4c96-a608-9bb0b767f59c",
   "metadata": {},
   "source": [
    "In this notebook, Data Science Tools and Ecosstem are summarized."
   ]
  },
  {
   "cell_type": "markdown",
   "id": "5c0b1941-6fe2-4a80-a254-b837051b1a4c",
   "metadata": {},
   "source": [
    "Some of the popular languages that Data Scientists use are: \n",
    "\n",
    "1. Python\n",
    "2. R\n",
    "3. SQL\n",
    "4. Scala\n",
    "5. Julia"
   ]
  },
  {
   "cell_type": "markdown",
   "id": "c1162afe-d71a-4235-8c2c-d30adc026a1a",
   "metadata": {},
   "source": [
    "Some of the commonly used libraries used by Data Scientists include:\n",
    "1. Matplotlib\n",
    "2. Keras\n",
    "3. Pytorch\n",
    "4. Spark\n",
    "5. ggplot"
   ]
  },
  {
   "cell_type": "markdown",
   "id": "330f8228-fef9-4d72-8e62-24bf5d0fc23a",
   "metadata": {},
   "source": [
    "| Data Science Tools |\n",
    "|--------------------|\n",
    "|PostgreSQL|\n",
    "|Apache AirFlow|\n",
    "|Apache Superset|"
   ]
  },
  {
   "cell_type": "markdown",
   "id": "37c88f8c-7c22-411d-9329-bf1347610b49",
   "metadata": {},
   "source": [
    "### Below are a few examples of evaluating arithmetic expressions in Python."
   ]
  },
  {
   "cell_type": "code",
   "execution_count": 6,
   "id": "51140b6b-e1fc-4763-b5da-b92911a200ac",
   "metadata": {
    "tags": []
   },
   "outputs": [
    {
     "name": "stdout",
     "output_type": "stream",
     "text": [
      "17\n"
     ]
    }
   ],
   "source": [
    "# This a simple arithmetic expression to mutiply then add integers.\n",
    "\n",
    "print ((3*4)+5)"
   ]
  },
  {
   "cell_type": "code",
   "execution_count": 38,
   "id": "812ea207-d1e2-499b-a48c-0f0aee4e2ab4",
   "metadata": {
    "tags": []
   },
   "outputs": [
    {
     "name": "stdout",
     "output_type": "stream",
     "text": [
      "200 minutes are equivalent to  3.3333333333333335 hours\n"
     ]
    }
   ],
   "source": [
    "# This will convert 200 minutes to hours by diving by 60\n",
    "\n",
    "minutes = 200 # integer\n",
    "divider = 60 # integer\n",
    "print (minutes, 'minutes are equivalent to ', (minutes / divider), 'hours')"
   ]
  },
  {
   "cell_type": "markdown",
   "id": "a564fe83-7c88-49a1-89a1-a968b9f8c979",
   "metadata": {},
   "source": [
    "## Author\n",
    "Bruno Nunes Labre"
   ]
  },
  {
   "cell_type": "code",
   "execution_count": null,
   "id": "32a80337-ea89-4cb7-9b98-200de1931f9f",
   "metadata": {},
   "outputs": [],
   "source": []
  }
 ],
 "metadata": {
  "kernelspec": {
   "display_name": "Python 3 (ipykernel)",
   "language": "python",
   "name": "python3"
  },
  "language_info": {
   "codemirror_mode": {
    "name": "ipython",
    "version": 3
   },
   "file_extension": ".py",
   "mimetype": "text/x-python",
   "name": "python",
   "nbconvert_exporter": "python",
   "pygments_lexer": "ipython3",
   "version": "3.11.5"
  }
 },
 "nbformat": 4,
 "nbformat_minor": 5
}
